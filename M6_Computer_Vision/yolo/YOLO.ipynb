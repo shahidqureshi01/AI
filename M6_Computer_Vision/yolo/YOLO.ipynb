{
 "cells": [
  {
   "cell_type": "code",
   "execution_count": 1,
   "id": "6ff7ed03",
   "metadata": {},
   "outputs": [],
   "source": [
    "import cv2\n",
    "import numpy as np\n",
    "from matplotlib import pyplot as plt"
   ]
  },
  {
   "cell_type": "code",
   "execution_count": 2,
   "id": "662601b7",
   "metadata": {},
   "outputs": [],
   "source": [
    "def show_img_with_matplotlib(color_img, title, pos):\n",
    "    \"\"\"Shows an image using matplotlib capabilities\"\"\"\n",
    "\n",
    "    img_RGB = color_img[:, :, ::-1]\n",
    "\n",
    "    ax = plt.subplot(1, 1, pos)\n",
    "    plt.imshow(img_RGB)\n",
    "    plt.title(title)\n",
    "    plt.axis('off')\n"
   ]
  },
  {
   "cell_type": "code",
   "execution_count": 12,
   "id": "f509a28e",
   "metadata": {},
   "outputs": [
    {
     "data": {
      "text/plain": [
       "(1005, 1857)"
      ]
     },
     "execution_count": 12,
     "metadata": {},
     "output_type": "execute_result"
    }
   ],
   "source": [
    "# load the COCO class labels:\n",
    "class_names = open(\"coco.names\").read().strip().split(\"\\n\")\n",
    "\n",
    "# Load the serialized caffe model from disk:\n",
    "net = cv2.dnn.readNetFromDarknet(\"yolov3.cfg\", \"darknet/yolov3.weights\")\n",
    "\n",
    "# Load input image:\n",
    "image = cv2.imread(\"object_detection_test_image.png\")\n",
    "(H, W) = image.shape[:2]\n",
    "\n",
    "H, W"
   ]
  },
  {
   "cell_type": "code",
   "execution_count": 13,
   "id": "dabd826e",
   "metadata": {},
   "outputs": [
    {
     "name": "stdout",
     "output_type": "stream",
     "text": [
      "(1, 3, 416, 416)\n",
      "Inference time: 222.62 ms\n"
     ]
    }
   ],
   "source": [
    "#Get the output layer names:\n",
    "layer_names = net.getLayerNames()\n",
    "layer_names = [layer_names[i[0] - 1] for i in net.getUnconnectedOutLayers()]\n",
    "\n",
    "# Create the blob with a size of (416, 416), swap red and blue channels\n",
    "# and also a scale factor of 1/255 = 0,003921568627451:\n",
    "blob = cv2.dnn.blobFromImage(image, 1 / 255.0, (416, 416), swapRB=True, crop=False)\n",
    "print(blob.shape)\n",
    "\n",
    "# Feed the input blob to the network, perform inference and get the output:\n",
    "net.setInput(blob)\n",
    "layerOutputs = net.forward(layer_names)\n",
    "\n",
    "# Get inference time:\n",
    "t, _ = net.getPerfProfile()\n",
    "print('Inference time: %.2f ms' % (t * 1000.0 / cv2.getTickFrequency()))\n"
   ]
  },
  {
   "cell_type": "code",
   "execution_count": 14,
   "id": "b14b6bbe",
   "metadata": {},
   "outputs": [],
   "source": [
    "\n",
    "# Initialization:\n",
    "boxes = []\n",
    "confidences = []\n",
    "class_ids = []\n",
    "\n",
    "# loop over each of the layer outputs\n",
    "for output in layerOutputs:\n",
    "    # loop over each of the detections\n",
    "    for detection in output:\n",
    "        # Get class ID and confidence of the current detection:\n",
    "        scores = detection[5:]\n",
    "        class_id = np.argmax(scores)\n",
    "        confidence = scores[class_id]\n",
    "\n",
    "        # Filter out weak predictions:\n",
    "        if confidence > 0.25:\n",
    "            # Scale the bounding box coordinates (center, width, height) using the dimensions of the original image:\n",
    "            box = detection[0:4] * np.array([W, H, W, H])\n",
    "            (centerX, centerY, width, height) = box.astype(\"int\")\n",
    "\n",
    "            # Calculate the top-left corner of the bounding box:\n",
    "            x = int(centerX - (width / 2))\n",
    "            y = int(centerY - (height / 2))\n",
    "\n",
    "            # Update the information we have for each detection:\n",
    "            boxes.append([x, y, int(width), int(height)])\n",
    "            confidences.append(float(confidence))\n",
    "            class_ids.append(class_id)\n"
   ]
  },
  {
   "cell_type": "code",
   "execution_count": null,
   "id": "5943a148",
   "metadata": {},
   "outputs": [],
   "source": []
  }
 ],
 "metadata": {
  "kernelspec": {
   "display_name": "Python 3",
   "language": "python",
   "name": "python3"
  },
  "language_info": {
   "codemirror_mode": {
    "name": "ipython",
    "version": 3
   },
   "file_extension": ".py",
   "mimetype": "text/x-python",
   "name": "python",
   "nbconvert_exporter": "python",
   "pygments_lexer": "ipython3",
   "version": "3.8.8"
  }
 },
 "nbformat": 4,
 "nbformat_minor": 5
}
