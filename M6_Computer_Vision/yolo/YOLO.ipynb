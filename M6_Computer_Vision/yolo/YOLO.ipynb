{
 "cells": [
  {
   "cell_type": "code",
   "execution_count": 1,
   "id": "d7129b96",
   "metadata": {},
   "outputs": [],
   "source": [
    "import cv2\n",
    "import numpy as np\n",
    "from matplotlib import pyplot as plt"
   ]
  },
  {
   "cell_type": "code",
   "execution_count": 2,
   "id": "ff1eda95",
   "metadata": {},
   "outputs": [],
   "source": [
    "def show_img_with_matplotlib(color_img, title, pos):\n",
    "    \"\"\"Shows an image using matplotlib capabilities\"\"\"\n",
    "\n",
    "    img_RGB = color_img[:, :, ::-1]\n",
    "\n",
    "    ax = plt.subplot(1, 1, pos)\n",
    "    plt.imshow(img_RGB)\n",
    "    plt.title(title)\n",
    "    plt.axis('off')\n"
   ]
  },
  {
   "cell_type": "code",
   "execution_count": 4,
   "id": "c561602c",
   "metadata": {},
   "outputs": [],
   "source": [
    "# load the COCO class labels:\n",
    "class_names = open(\"coco.names\").read().strip().split(\"\\n\")\n",
    "\n",
    "# Load the serialized caffe model from disk:\n",
    "net = cv2.dnn.readNetFromDarknet(\"yolov3.cfg\", \"darknet/yolov3.weights\")\n",
    "\n",
    "# Load input image:\n",
    "image = cv2.imread(\"object_detection_test_image.png\")\n",
    "(H, W) = image.shape[:2]\n"
   ]
  },
  {
   "cell_type": "code",
   "execution_count": null,
   "id": "819c3b50",
   "metadata": {},
   "outputs": [],
   "source": []
  }
 ],
 "metadata": {
  "kernelspec": {
   "display_name": "Python 3",
   "language": "python",
   "name": "python3"
  },
  "language_info": {
   "codemirror_mode": {
    "name": "ipython",
    "version": 3
   },
   "file_extension": ".py",
   "mimetype": "text/x-python",
   "name": "python",
   "nbconvert_exporter": "python",
   "pygments_lexer": "ipython3",
   "version": "3.8.8"
  }
 },
 "nbformat": 4,
 "nbformat_minor": 5
}
