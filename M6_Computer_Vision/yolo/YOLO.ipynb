{
 "cells": [
  {
   "cell_type": "code",
   "execution_count": 1,
   "id": "b6eba6df",
   "metadata": {},
   "outputs": [],
   "source": [
    "import cv2\n",
    "import numpy as np\n",
    "from matplotlib import pyplot as plt"
   ]
  },
  {
   "cell_type": "code",
   "execution_count": 2,
   "id": "3125261c",
   "metadata": {},
   "outputs": [],
   "source": [
    "def show_img_with_matplotlib(color_img, title, pos):\n",
    "    \"\"\"Shows an image using matplotlib capabilities\"\"\"\n",
    "\n",
    "    img_RGB = color_img[:, :, ::-1]\n",
    "\n",
    "    ax = plt.subplot(1, 1, pos)\n",
    "    plt.imshow(img_RGB)\n",
    "    plt.title(title)\n",
    "    plt.axis('off')\n"
   ]
  },
  {
   "cell_type": "code",
   "execution_count": 9,
   "id": "c8dd5494",
   "metadata": {},
   "outputs": [],
   "source": [
    "# load the COCO class labels:\n",
    "class_names = open(\"coco.names\").read().strip().split(\"\\n\")\n",
    "\n",
    "# Load the serialized caffe model from disk:\n",
    "net = cv2.dnn.readNetFromDarknet(\"yolov3.cfg\", \"darknet/yolov3.weights\")\n",
    "\n",
    "# Load input image:\n",
    "image = cv2.imread(\"object_detection_test_image.png\")\n",
    "(H, W) = image.shape[:2]\n",
    "\n"
   ]
  },
  {
   "cell_type": "code",
   "execution_count": 11,
   "id": "2ad53617",
   "metadata": {},
   "outputs": [
    {
     "name": "stdout",
     "output_type": "stream",
     "text": [
      "(1, 3, 416, 416)\n",
      "Inference time: 222.02 ms\n"
     ]
    }
   ],
   "source": [
    "#Get the output layer names:\n",
    "layer_names = net.getLayerNames()\n",
    "layer_names = [layer_names[i[0] - 1] for i in net.getUnconnectedOutLayers()]\n",
    "\n",
    "# Create the blob with a size of (416, 416), swap red and blue channels\n",
    "# and also a scale factor of 1/255 = 0,003921568627451:\n",
    "blob = cv2.dnn.blobFromImage(image, 1 / 255.0, (416, 416), swapRB=True, crop=False)\n",
    "print(blob.shape)\n",
    "\n",
    "# Feed the input blob to the network, perform inference and get the output:\n",
    "net.setInput(blob)\n",
    "layerOutputs = net.forward(layer_names)\n",
    "\n",
    "# Get inference time:\n",
    "t, _ = net.getPerfProfile()\n",
    "print('Inference time: %.2f ms' % (t * 1000.0 / cv2.getTickFrequency()))\n"
   ]
  },
  {
   "cell_type": "code",
   "execution_count": null,
   "id": "4b088b10",
   "metadata": {},
   "outputs": [],
   "source": []
  }
 ],
 "metadata": {
  "kernelspec": {
   "display_name": "Python 3",
   "language": "python",
   "name": "python3"
  },
  "language_info": {
   "codemirror_mode": {
    "name": "ipython",
    "version": 3
   },
   "file_extension": ".py",
   "mimetype": "text/x-python",
   "name": "python",
   "nbconvert_exporter": "python",
   "pygments_lexer": "ipython3",
   "version": "3.8.8"
  }
 },
 "nbformat": 4,
 "nbformat_minor": 5
}
