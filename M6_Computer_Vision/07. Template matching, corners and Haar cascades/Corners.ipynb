{
 "cells": [
  {
   "cell_type": "code",
   "execution_count": null,
   "metadata": {
    "ExecuteTime": {
     "end_time": "2019-11-21T08:38:42.318902Z",
     "start_time": "2019-11-21T08:38:42.311109Z"
    }
   },
   "outputs": [],
   "source": [
    "import cv2\n",
    "import numpy as np\n",
    "import matplotlib.pyplot as plt\n",
    "%matplotlib inline"
   ]
  },
  {
   "cell_type": "markdown",
   "metadata": {},
   "source": [
    "### Corners"
   ]
  },
  {
   "cell_type": "code",
   "execution_count": null,
   "metadata": {
    "ExecuteTime": {
     "end_time": "2019-11-21T08:48:43.588014Z",
     "start_time": "2019-11-21T08:48:43.272771Z"
    }
   },
   "outputs": [],
   "source": [
    "image = cv2.imread('img/chess.jpg')\n",
    "plt.imshow(image);"
   ]
  },
  {
   "cell_type": "code",
   "execution_count": null,
   "metadata": {},
   "outputs": [],
   "source": [
    "# We will work with the image above\n",
    "# Convert it to grayscale\n",
    "gray = cv2.cvtColor(image,cv2.COLOR_BGR2GRAY)\n",
    "#gray = np.float32(gray)\n",
    "# Detect the corners using the cornerHarris\n",
    "dst = cv2.cornerHarris(gray,2,3,0.04)\n",
    "#dst = cv2.dilate(dst,None)\n",
    "# Display the image with the detected corners \n",
    "image[dst>0.01*dst.max()]=[0,0,255]\n",
    "\n",
    "cv2.imshow('dst',image)\n",
    "cv2.waitKey(0)\n",
    "\n",
    "cv2.destroyAllWindows()\n",
    "cv2.waitKey(1)\n",
    "# cv2.imshow('dst',image)\n",
    "# if cv2.waitKey(0) & 0xff == 27:\n",
    "#     cv2.destroyAllWindows()\n",
    "# gray = cv.cvtColor(img,cv.COLOR_BGR2GRAY)\n",
    "# gray = np.float32(gray)\n",
    "# dst = cv.cornerHarris(gray,2,3,0.04)\n",
    "# #result is dilated for marking the corners, not important\n",
    "# dst = cv.dilate(dst,None)\n",
    "# # Threshold for an optimal value, it may vary depending on the image.\n",
    "# img[dst>0.01*dst.max()]=[0,0,255]\n",
    "# cv.imshow('dst',img)\n",
    "# if cv.waitKey(0) & 0xff == 27:\n",
    "#     cv.destroyAllWindows()\n",
    "\n"
   ]
  },
  {
   "cell_type": "code",
   "execution_count": null,
   "metadata": {},
   "outputs": [],
   "source": []
  },
  {
   "cell_type": "code",
   "execution_count": null,
   "metadata": {
    "ExecuteTime": {
     "end_time": "2019-11-21T08:53:08.987226Z",
     "start_time": "2019-11-21T08:53:08.668748Z"
    }
   },
   "outputs": [],
   "source": [
    "img = cv2.imread('img/chess.jpg')\n",
    "\n",
    "# Convert img to grayscale\n",
    "gray2 = cv2.cvtColor(image, cv2.COLOR_BGR2GRAY)\n",
    "blur = cv2.GaussianBlur(gray2,(5,5),cv2.BORDER_DEFAULT)\n",
    "ret,blur = cv2.threshold(blur,70,255,cv2.THRESH_BINARY_INV)\n",
    "# Detect the corners using goodFeaturesToTrack\n",
    "\n",
    "\n",
    "# Draw the corners on top of img and show it on screen (make sure the corners are visible!)\n",
    "corners = cv2.goodFeaturesToTrack(blur,25,0.01,10)\n",
    "corners = np.int0(corners)\n",
    "for i in corners:\n",
    "    x,y = i.ravel()\n",
    "    cv2.circle(img,(x,y),3,255,-1)\n",
    "plt.figure(figsize=(10, 10))\n",
    "plt.imshow(img),\n",
    "plt.show()\n"
   ]
  },
  {
   "cell_type": "code",
   "execution_count": null,
   "metadata": {},
   "outputs": [],
   "source": []
  }
 ],
 "metadata": {
  "kernelspec": {
   "display_name": "Python 3",
   "language": "python",
   "name": "python3"
  },
  "language_info": {
   "codemirror_mode": {
    "name": "ipython",
    "version": 3
   },
   "file_extension": ".py",
   "mimetype": "text/x-python",
   "name": "python",
   "nbconvert_exporter": "python",
   "pygments_lexer": "ipython3",
   "version": "3.8.8"
  }
 },
 "nbformat": 4,
 "nbformat_minor": 2
}
