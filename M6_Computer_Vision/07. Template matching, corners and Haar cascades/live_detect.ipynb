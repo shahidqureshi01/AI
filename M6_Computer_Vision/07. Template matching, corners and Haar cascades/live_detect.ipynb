{
 "cells": [
  {
   "cell_type": "code",
   "execution_count": 1,
   "id": "26b52cbb",
   "metadata": {},
   "outputs": [
    {
     "name": "stdout",
     "output_type": "stream",
     "text": [
      "cars.mp4   video.avi  video1.avi\r\n"
     ]
    }
   ],
   "source": [
    "import cv2\n",
    "import numpy as np\n",
    "import matplotlib.pyplot as plt\n",
    "%matplotlib inline\n",
    "!ls videos/"
   ]
  },
  {
   "cell_type": "code",
   "execution_count": null,
   "id": "cceefe7d",
   "metadata": {},
   "outputs": [],
   "source": [
    "cap = cv2.VideoCapture('videos/video1.avi')\n",
    "\n",
    "if not cap.isOpened():\n",
    "    exit(0)\n",
    "    \n",
    "while True:\n",
    "    ret, frame = cap.read()\n",
    "    \n",
    "    if frame is None:\n",
    "        break\n",
    "        \n",
    "    k = cv2.waitKey(30)\n",
    "    if k == 27:\n",
    "        break   \n",
    "    \n",
    "    cv2.imshow('Live video', frame)\n",
    "    cv2.waitKey()\n",
    "    cv2.destroyAllWindows()\n",
    "        \n",
    "cap.release()\n",
    "cv2.destroyAllWindows()\n",
    "cv2.waitKey(1)        \n"
   ]
  },
  {
   "cell_type": "code",
   "execution_count": null,
   "id": "ed0064ce",
   "metadata": {},
   "outputs": [],
   "source": [
    "def play_video():\n",
    "    # load video capture from file\n",
    "    video = cv2.VideoCapture('videos/video1.avi')\n",
    "    # window name and size\n",
    "    cv2.namedWindow(\"video\", cv2.WINDOW_AUTOSIZE)\n",
    "    while video.isOpened():\n",
    "        # Read video capture\n",
    "        ret, frame = video.read()\n",
    "        # Display each frame\n",
    "        cv2.imshow(\"video\", frame)\n",
    "        # show one frame at a time\n",
    "        cv2.waitKey(00) == ord('k')\n",
    "        # Quit when 'q' is pressed\n",
    "        if cv2.waitKey(1) == ord('q'):\n",
    "            break\n",
    "    # Release capture object\n",
    "    video.release()\n",
    "    # Exit and distroy all windows\n",
    "    cv2.destroyAllWindows()\n",
    "\n",
    "\n",
    "play_video()"
   ]
  },
  {
   "cell_type": "code",
   "execution_count": null,
   "id": "10ac2403",
   "metadata": {},
   "outputs": [],
   "source": []
  }
 ],
 "metadata": {
  "kernelspec": {
   "display_name": "Python 3",
   "language": "python",
   "name": "python3"
  },
  "language_info": {
   "codemirror_mode": {
    "name": "ipython",
    "version": 3
   },
   "file_extension": ".py",
   "mimetype": "text/x-python",
   "name": "python",
   "nbconvert_exporter": "python",
   "pygments_lexer": "ipython3",
   "version": "3.8.8"
  }
 },
 "nbformat": 4,
 "nbformat_minor": 5
}
