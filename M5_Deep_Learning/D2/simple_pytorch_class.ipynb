{
 "cells": [
  {
   "cell_type": "code",
   "execution_count": 9,
   "id": "2a5a9f60",
   "metadata": {},
   "outputs": [],
   "source": [
    "import torch\n",
    "import torch.nn as nn\n",
    "import torch.nn.functional as F"
   ]
  },
  {
   "cell_type": "code",
   "execution_count": 13,
   "id": "ce2f50fa",
   "metadata": {},
   "outputs": [],
   "source": [
    "class MyNeuralNet(nn.Module):\n",
    "    def __init__(self, input_size, n_nodes, output_size):\n",
    "        super(MyNeuralNet, self).__init__()\n",
    "        self.operationOne = nn.Linear(input_size, n_nodes)\n",
    "        self.operationTwo = nn.Linear(n_nodes, output_size)\n",
    "    \n",
    "    def forward(self, x):\n",
    "        x = F.relu(self.operationOne(x))\n",
    "        x = self.operationTwo(x)\n",
    "        x = F.sigmoid(x)\n",
    "        return x"
   ]
  },
  {
   "cell_type": "code",
   "execution_count": 15,
   "id": "b6ff4d91",
   "metadata": {},
   "outputs": [
    {
     "data": {
      "text/plain": [
       "MyNeuralNet(\n",
       "  (operationOne): Linear(in_features=3, out_features=2, bias=True)\n",
       "  (operationTwo): Linear(in_features=2, out_features=1, bias=True)\n",
       ")"
      ]
     },
     "execution_count": 15,
     "metadata": {},
     "output_type": "execute_result"
    }
   ],
   "source": [
    "model = MyNeuralNet(3, 2, 1)\n",
    "model"
   ]
  },
  {
   "cell_type": "code",
   "execution_count": 17,
   "id": "9bcfd435",
   "metadata": {},
   "outputs": [
    {
     "data": {
      "text/plain": [
       "tensor([[[0.0735, 0.4262, 0.6648, 0.6969],\n",
       "         [0.7699, 0.1655, 0.9907, 0.7600]],\n",
       "\n",
       "        [[0.5973, 0.8796, 0.0012, 0.5784],\n",
       "         [0.9234, 0.7963, 0.0502, 0.5415]],\n",
       "\n",
       "        [[0.6219, 0.8099, 0.7798, 0.6041],\n",
       "         [0.5538, 0.9735, 0.3089, 0.3309]],\n",
       "\n",
       "        [[0.8257, 0.4087, 0.1647, 0.8997],\n",
       "         [0.6275, 0.7156, 0.3447, 0.6052]]])"
      ]
     },
     "execution_count": 17,
     "metadata": {},
     "output_type": "execute_result"
    }
   ],
   "source": [
    "rand_tensor = torch.rand([4, 2, 4])\n",
    "rand_tensor"
   ]
  },
  {
   "cell_type": "code",
   "execution_count": 19,
   "id": "30b7695b",
   "metadata": {},
   "outputs": [
    {
     "data": {
      "text/plain": [
       "tensor([[[0.0735, 0.4262, 0.6648, 0.6969, 0.7699, 0.1655, 0.9907, 0.7600],\n",
       "         [0.5973, 0.8796, 0.0012, 0.5784, 0.9234, 0.7963, 0.0502, 0.5415],\n",
       "         [0.6219, 0.8099, 0.7798, 0.6041, 0.5538, 0.9735, 0.3089, 0.3309],\n",
       "         [0.8257, 0.4087, 0.1647, 0.8997, 0.6275, 0.7156, 0.3447, 0.6052]]])"
      ]
     },
     "execution_count": 19,
     "metadata": {},
     "output_type": "execute_result"
    }
   ],
   "source": [
    "x_shape = rand_tensor.view(-1, 4, 8)\n",
    "x_shape"
   ]
  },
  {
   "cell_type": "code",
   "execution_count": null,
   "id": "da82922b",
   "metadata": {},
   "outputs": [],
   "source": []
  }
 ],
 "metadata": {
  "kernelspec": {
   "display_name": "Python 3",
   "language": "python",
   "name": "python3"
  },
  "language_info": {
   "codemirror_mode": {
    "name": "ipython",
    "version": 3
   },
   "file_extension": ".py",
   "mimetype": "text/x-python",
   "name": "python",
   "nbconvert_exporter": "python",
   "pygments_lexer": "ipython3",
   "version": "3.8.8"
  }
 },
 "nbformat": 4,
 "nbformat_minor": 5
}
