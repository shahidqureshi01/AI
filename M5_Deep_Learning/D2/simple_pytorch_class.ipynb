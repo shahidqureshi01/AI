{
 "cells": [
  {
   "cell_type": "code",
   "execution_count": 9,
   "id": "0abf8f7b",
   "metadata": {},
   "outputs": [],
   "source": [
    "import torch\n",
    "import torch.nn as nn\n",
    "import torch.nn.functional as F"
   ]
  },
  {
   "cell_type": "code",
   "execution_count": 13,
   "id": "a7259217",
   "metadata": {},
   "outputs": [],
   "source": [
    "class MyNeuralNet(nn.Module):\n",
    "    def __init__(self, input_size, n_nodes, output_size):\n",
    "        super(MyNeuralNet, self).__init__()\n",
    "        self.operationOne = nn.Linear(input_size, n_nodes)\n",
    "        self.operationTwo = nn.Linear(n_nodes, output_size)\n",
    "    \n",
    "    def forward(self, x):\n",
    "        x = F.relu(self.operationOne(x))\n",
    "        x = self.operationTwo(x)\n",
    "        x = F.sigmoid(x)\n",
    "        return x"
   ]
  },
  {
   "cell_type": "code",
   "execution_count": 15,
   "id": "6a8205af",
   "metadata": {},
   "outputs": [
    {
     "data": {
      "text/plain": [
       "MyNeuralNet(\n",
       "  (operationOne): Linear(in_features=3, out_features=2, bias=True)\n",
       "  (operationTwo): Linear(in_features=2, out_features=1, bias=True)\n",
       ")"
      ]
     },
     "execution_count": 15,
     "metadata": {},
     "output_type": "execute_result"
    }
   ],
   "source": [
    "model = MyNeuralNet(3, 2, 1)\n",
    "model"
   ]
  },
  {
   "cell_type": "code",
   "execution_count": 17,
   "id": "7e2d7c46",
   "metadata": {},
   "outputs": [
    {
     "data": {
      "text/plain": [
       "tensor([[[0.0735, 0.4262, 0.6648, 0.6969],\n",
       "         [0.7699, 0.1655, 0.9907, 0.7600]],\n",
       "\n",
       "        [[0.5973, 0.8796, 0.0012, 0.5784],\n",
       "         [0.9234, 0.7963, 0.0502, 0.5415]],\n",
       "\n",
       "        [[0.6219, 0.8099, 0.7798, 0.6041],\n",
       "         [0.5538, 0.9735, 0.3089, 0.3309]],\n",
       "\n",
       "        [[0.8257, 0.4087, 0.1647, 0.8997],\n",
       "         [0.6275, 0.7156, 0.3447, 0.6052]]])"
      ]
     },
     "execution_count": 17,
     "metadata": {},
     "output_type": "execute_result"
    }
   ],
   "source": [
    "rand_tensor = torch.rand([4, 2, 4])\n",
    "rand_tensor"
   ]
  },
  {
   "cell_type": "code",
   "execution_count": 19,
   "id": "6e42eecf",
   "metadata": {},
   "outputs": [
    {
     "data": {
      "text/plain": [
       "tensor([[[0.0735, 0.4262, 0.6648, 0.6969, 0.7699, 0.1655, 0.9907, 0.7600],\n",
       "         [0.5973, 0.8796, 0.0012, 0.5784, 0.9234, 0.7963, 0.0502, 0.5415],\n",
       "         [0.6219, 0.8099, 0.7798, 0.6041, 0.5538, 0.9735, 0.3089, 0.3309],\n",
       "         [0.8257, 0.4087, 0.1647, 0.8997, 0.6275, 0.7156, 0.3447, 0.6052]]])"
      ]
     },
     "execution_count": 19,
     "metadata": {},
     "output_type": "execute_result"
    }
   ],
   "source": [
    "x_shape = rand_tensor.view(-1, 4, 8)\n",
    "x_shape"
   ]
  },
  {
   "cell_type": "code",
   "execution_count": 20,
   "id": "efaae77c",
   "metadata": {},
   "outputs": [],
   "source": [
    "criterion = nn.BCELoss()\n",
    "optimizer = torch.optim.SGD(model.parameters(), lr=0.01)"
   ]
  },
  {
   "cell_type": "code",
   "execution_count": null,
   "id": "3cde3ed7",
   "metadata": {},
   "outputs": [],
   "source": [
    "# add data and x_train, y_train, x_test, y_test here"
   ]
  },
  {
   "cell_type": "code",
   "execution_count": 22,
   "id": "ec920dd7",
   "metadata": {},
   "outputs": [
    {
     "ename": "NameError",
     "evalue": "name 'x_train' is not defined",
     "output_type": "error",
     "traceback": [
      "\u001b[0;31m---------------------------------------------------------------------------\u001b[0m",
      "\u001b[0;31mNameError\u001b[0m                                 Traceback (most recent call last)",
      "\u001b[0;32m<ipython-input-22-b1e108d98dec>\u001b[0m in \u001b[0;36m<module>\u001b[0;34m\u001b[0m\n\u001b[1;32m      1\u001b[0m \u001b[0;32mfor\u001b[0m \u001b[0mepoch\u001b[0m \u001b[0;32min\u001b[0m \u001b[0mrange\u001b[0m\u001b[0;34m(\u001b[0m\u001b[0;36m100\u001b[0m\u001b[0;34m)\u001b[0m\u001b[0;34m:\u001b[0m\u001b[0;34m\u001b[0m\u001b[0;34m\u001b[0m\u001b[0m\n\u001b[1;32m      2\u001b[0m  \u001b[0;31m# Forward Propagation\u001b[0m\u001b[0;34m\u001b[0m\u001b[0;34m\u001b[0m\u001b[0;34m\u001b[0m\u001b[0m\n\u001b[0;32m----> 3\u001b[0;31m  \u001b[0my_pred\u001b[0m \u001b[0;34m=\u001b[0m \u001b[0mmodel\u001b[0m\u001b[0;34m(\u001b[0m\u001b[0mx_train\u001b[0m\u001b[0;34m)\u001b[0m\u001b[0;34m\u001b[0m\u001b[0;34m\u001b[0m\u001b[0m\n\u001b[0m\u001b[1;32m      4\u001b[0m \u001b[0;34m\u001b[0m\u001b[0m\n\u001b[1;32m      5\u001b[0m  \u001b[0;31m# Compute and print loss\u001b[0m\u001b[0;34m\u001b[0m\u001b[0;34m\u001b[0m\u001b[0;34m\u001b[0m\u001b[0m\n",
      "\u001b[0;31mNameError\u001b[0m: name 'x_train' is not defined"
     ]
    }
   ],
   "source": [
    "for epoch in range(100):\n",
    " # Forward Propagation\n",
    " y_pred = model(x_train)\n",
    "\n",
    " # Compute and print loss\n",
    " loss_score = criterion(y_pred, y_train)\n",
    " print('epoch: ', epoch,' loss: ', loss.item())\n",
    "\n",
    " # Zero the gradients\n",
    " optimizer.zero_grad()\n",
    "\n",
    " # perform a backward pass (backpropagation)\n",
    " loss_score.backward()\n",
    "\n",
    " # Update the parameters\n",
    " optimizer.step()"
   ]
  },
  {
   "cell_type": "code",
   "execution_count": null,
   "id": "f959cb3d",
   "metadata": {},
   "outputs": [],
   "source": []
  }
 ],
 "metadata": {
  "kernelspec": {
   "display_name": "Python 3",
   "language": "python",
   "name": "python3"
  },
  "language_info": {
   "codemirror_mode": {
    "name": "ipython",
    "version": 3
   },
   "file_extension": ".py",
   "mimetype": "text/x-python",
   "name": "python",
   "nbconvert_exporter": "python",
   "pygments_lexer": "ipython3",
   "version": "3.8.8"
  }
 },
 "nbformat": 4,
 "nbformat_minor": 5
}
