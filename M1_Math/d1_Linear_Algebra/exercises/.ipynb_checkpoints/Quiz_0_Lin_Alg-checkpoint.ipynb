{
 "cells": [
  {
   "cell_type": "markdown",
   "metadata": {},
   "source": [
    "# Vectors and Matrices\n",
    "Time to work! Do it with numpy first and then if you have time, manually by hand :)"
   ]
  },
  {
   "cell_type": "markdown",
   "metadata": {},
   "source": [
    "## Vectors"
   ]
  },
  {
   "cell_type": "markdown",
   "metadata": {},
   "source": [
    "Lists can be used to represent mathematical vectors. In this exercise and several that follow you will write functions to perform standard operations on vectors. Create a file named vectors.py or use the Jupyter notebook provided\n",
    "\n",
    "Write a function add_vectors(u, v) that takes two lists of numbers of the same length, and returns a new list containing the sums of the corresponding elements of each.\n",
    "\n",
    "**Note that the text in \"\"\" \"\"\" is provided for you to accurately verify that your function works :)**"
   ]
  },
  {
   "cell_type": "code",
   "execution_count": 5,
   "metadata": {},
   "outputs": [
    {
     "data": {
      "text/plain": [
       "array([2, 1])"
      ]
     },
     "execution_count": 5,
     "metadata": {},
     "output_type": "execute_result"
    }
   ],
   "source": [
    "import numpy as np\n",
    "def add_vectors(u, v):\n",
    "    \"\"\"\n",
    "      >>> add_vectors([1, 0], [1, 1])\n",
    "      [2, 1]\n",
    "      >>> add_vectors([1, 2], [1, 4])\n",
    "      [2, 6]\n",
    "      >>> add_vectors([1, 2, 1], [1, 4, 3])\n",
    "      [2, 6, 4]\n",
    "      >>> add_vectors([11, 0, -4, 5], [2, -4, 17, 0])\n",
    "      [13, -4, 13, 5]\n",
    "      >>> a = [1, 2, 3]\n",
    "      >>> b = [1, 1, 1]\n",
    "      >>> add_vectors(a, b)\n",
    "      [2, 3, 4]\n",
    "      >>> a\n",
    "      [1, 2, 3]\n",
    "      >>> b\n",
    "      [1, 1, 1]\n",
    "    \"\"\"\n",
    "    return np.array(u) + np.array(v)\n",
    "\n",
    "add_vectors([1, 0], [1, 1])"
   ]
  },
  {
   "cell_type": "markdown",
   "metadata": {},
   "source": [
    "Write a function scalar_mult(s, v) that takes a number, s, and a list, v and returns the [scalar multiple](https://en.wikipedia.org/wiki/Scalar_multiplication) of v by s."
   ]
  },
  {
   "cell_type": "code",
   "execution_count": 6,
   "metadata": {},
   "outputs": [
    {
     "data": {
      "text/plain": [
       "array([ 5, 10])"
      ]
     },
     "execution_count": 6,
     "metadata": {},
     "output_type": "execute_result"
    }
   ],
   "source": [
    "def scalar_mult(s, v):\n",
    "    \"\"\"\n",
    "      >>> scalar_mult(5, [1, 2])\n",
    "      [5, 10]\n",
    "      >>> scalar_mult(3, [1, 0, -1])\n",
    "      [3, 0, -3]\n",
    "      >>> scalar_mult(7, [3, 0, 5, 11, 2])\n",
    "      [21, 0, 35, 77, 14]\n",
    "      >>> a = [1, 2, 3]\n",
    "      >>> scalar_mult(4, a)\n",
    "      [4, 8, 12]\n",
    "      >>> a\n",
    "      [1, 2, 3]\n",
    "    \"\"\"\n",
    "    return np.multiply(s,v)\n",
    " \n",
    "scalar_mult(5, [1, 2])"
   ]
  },
  {
   "cell_type": "markdown",
   "metadata": {},
   "source": [
    "Write a function dot_product(u, v) that takes two lists of numbers of the same length, and returns the sum of the products of the corresponding elements of each (the [dot_product](https://en.wikipedia.org/wiki/Dot_product)."
   ]
  },
  {
   "cell_type": "code",
   "execution_count": 10,
   "metadata": {},
   "outputs": [
    {
     "data": {
      "text/plain": [
       "12"
      ]
     },
     "execution_count": 10,
     "metadata": {},
     "output_type": "execute_result"
    }
   ],
   "source": [
    "def dot_product(u, v):\n",
    "    \"\"\"\n",
    "      >>> dot_product([1, 1], [1, 1])\n",
    "      2\n",
    "      >>> dot_product([1, 2], [1, 4])\n",
    "      9\n",
    "      >>> dot_product([1, 2, 1], [1, 4, 3])\n",
    "      12\n",
    "      >>> dot_product([2, 0, -1, 1], [1, 5, 2, 0])\n",
    "      0\n",
    "    \"\"\"\n",
    "    return sum(np.add(u, v))\n",
    "\n",
    "dot_product([1, 1], [1, 1])\n",
    "dot_product([1, 2, 1], [1, 4, 3])"
   ]
  },
  {
   "cell_type": "markdown",
   "metadata": {},
   "source": [
    "## Matrices"
   ]
  },
  {
   "cell_type": "markdown",
   "metadata": {},
   "source": [
    "Create a new module named matrices.py or *use the Jupyter notebook provided* and add the following function, which returns a copy of nested lists of numbers such that the lists are not aliases:"
   ]
  },
  {
   "cell_type": "code",
   "execution_count": 14,
   "metadata": {},
   "outputs": [
    {
     "data": {
      "text/plain": [
       "array([[1, 2],\n",
       "       [3, 4]])"
      ]
     },
     "execution_count": 14,
     "metadata": {},
     "output_type": "execute_result"
    }
   ],
   "source": [
    "def copy_matrix(matrix):\n",
    "    \"\"\"\n",
    "      >>> copy_matrix([[1, 2], [3, 4]])\n",
    "      [[1, 2], [3, 4]]\n",
    "      >>> copy_matrix([[1, 2, 3], [4, 5, 6]])\n",
    "      [[1, 2, 3], [4, 5, 6]]\n",
    "      >>> copy_matrix([[1, 2], [3, 4], [5, 6], [7, 8]])\n",
    "      [[1, 2], [3, 4], [5, 6], [7, 8]]\n",
    "      >>> m = [[1, 0, 0], [0, 2, 0], [0, 0, 3]]\n",
    "      >>> copyofm = copy_matrix(m)\n",
    "      >>> copyofm\n",
    "      [[1, 0, 0], [0, 2, 0], [0, 0, 3]]\n",
    "      >>> for row_num, row in enumerate(copyofm):\n",
    "      ...     for col_num, col_val in enumerate(row):\n",
    "      ...         copyofm[row_num][col_num] = 42\n",
    "      ...\n",
    "      >>> copyofm\n",
    "      [[42, 42, 42], [42, 42, 42], [42, 42, 42]]\n",
    "      >>> m\n",
    "      [[1, 0, 0], [0, 2, 0], [0, 0, 3]]\n",
    "    \"\"\"\n",
    "    return np.array(matrix, copy=True)  \n",
    "\n",
    "copy_matrix([[1, 2], [3, 4]])"
   ]
  },
  {
   "cell_type": "code",
   "execution_count": 25,
   "metadata": {},
   "outputs": [
    {
     "data": {
      "text/plain": [
       "array([[3, 2, 5],\n",
       "       [1, 4, 7],\n",
       "       [0, 0, 0]])"
      ]
     },
     "execution_count": 25,
     "metadata": {},
     "output_type": "execute_result"
    }
   ],
   "source": [
    "def add_row(matrix):\n",
    "    \"\"\"\n",
    "      >>> m = [[0, 0], [0, 0]]\n",
    "      >>> add_row(m)\n",
    "      [[0, 0], [0, 0], [0, 0]]\n",
    "      >>> n = [[3, 2, 5], [1, 4, 7]]\n",
    "      >>> add_row(n)\n",
    "      [[3, 2, 5], [1, 4, 7], [0, 0, 0]]\n",
    "      >>> n\n",
    "      [[3, 2, 5], [1, 4, 7]]\n",
    "    \"\"\"\n",
    "    m=[]\n",
    "    for x in matrix:\n",
    "        a=len(x)\n",
    "    for i in range(a):\n",
    "        m.append(0)\n",
    "    return np.vstack([matrix,m])\n",
    "\n",
    "n = [[3, 2, 5], [1, 4, 7]]\n",
    "add_row(n)"
   ]
  },
  {
   "cell_type": "code",
   "execution_count": 26,
   "metadata": {},
   "outputs": [
    {
     "data": {
      "text/plain": [
       "[[3, 2, 0], [5, 1, 0], [4, 7, 0]]"
      ]
     },
     "execution_count": 26,
     "metadata": {},
     "output_type": "execute_result"
    }
   ],
   "source": [
    "def add_column(matrix):\n",
    "    \"\"\"\n",
    "      >>> m = [[0, 0], [0, 0]]\n",
    "      >>> add_column(m)\n",
    "      [[0, 0, 0], [0, 0, 0]]\n",
    "      >>> n = [[3, 2], [5, 1], [4, 7]]\n",
    "      >>> add_column(n)\n",
    "      [[3, 2, 0], [5, 1, 0], [4, 7, 0]]\n",
    "      >>> n\n",
    "      [[3, 2], [5, 1], [4, 7]]\n",
    "    \"\"\"\n",
    "    for i in range(len(matrix)):\n",
    "        matrix[i].append(0)\n",
    "    return matrix\n",
    "\n",
    "n = [[3, 2], [5, 1], [4, 7]]\n",
    "add_column(n)"
   ]
  },
  {
   "cell_type": "markdown",
   "metadata": {},
   "source": [
    "Write a function add_matrices(m1, m2) that adds m1 and m2 and returns a new matrix containing their sum. You can assume that m1 and m2 are the same size. You add two matrices by adding their corresponding values."
   ]
  },
  {
   "cell_type": "code",
   "execution_count": 28,
   "metadata": {},
   "outputs": [
    {
     "data": {
      "text/plain": [
       "matrix([[3, 4],\n",
       "        [5, 6]])"
      ]
     },
     "execution_count": 28,
     "metadata": {},
     "output_type": "execute_result"
    }
   ],
   "source": [
    "def add_matrices(m1, m2):\n",
    "    \"\"\"\n",
    "      >>> a = [[1, 2], [3, 4]]\n",
    "      >>> b = [[2, 2], [2, 2]]\n",
    "      >>> add_matrices(a, b)\n",
    "      [[3, 4], [5, 6]]\n",
    "      >>> c = [[8, 2], [3, 4], [5, 7]]\n",
    "      >>> d = [[3, 2], [9, 2], [10, 12]]\n",
    "      >>> add_matrices(c, d)\n",
    "      [[11, 4], [12, 6], [15, 19]]\n",
    "      >>> c\n",
    "      [[8, 2], [3, 4], [5, 7]]\n",
    "      >>> d\n",
    "      [[3, 2], [9, 2], [10, 12]]\n",
    "   \"\"\"\n",
    "    b=np.matrix(m2)\n",
    "    a=np.matrix(m1)\n",
    "    return a + b\n",
    "\n",
    "a = [[1, 2], [3, 4]]\n",
    "b = [[2, 2], [2, 2]]\n",
    "add_matrices(a, b)"
   ]
  },
  {
   "cell_type": "markdown",
   "metadata": {},
   "source": [
    "Write a function scalar_mult(s, m) that multiplies a matrix, m, by a scalar, s."
   ]
  },
  {
   "cell_type": "code",
   "execution_count": 29,
   "metadata": {},
   "outputs": [
    {
     "data": {
      "text/plain": [
       "matrix([[ 3,  6],\n",
       "        [ 9, 12]])"
      ]
     },
     "execution_count": 29,
     "metadata": {},
     "output_type": "execute_result"
    }
   ],
   "source": [
    "def scalar_mult(s, m):\n",
    "    \"\"\"\n",
    "      >>> a = [[1, 2], [3, 4]]\n",
    "      >>> scalar_mult(3, a)\n",
    "      [[3, 6], [9, 12]]\n",
    "      >>> b = [[3, 5, 7], [1, 1, 1], [0, 2, 0], [2, 2, 3]]\n",
    "      >>> scalar_mult(10, b)\n",
    "      [[30, 50, 70], [10, 10, 10], [0, 20, 0], [20, 20, 30]]\n",
    "      >>> b\n",
    "      [[3, 5, 7], [1, 1, 1], [0, 2, 0], [2, 2, 3]]\n",
    "    \"\"\"\n",
    "    m=np.matrix(m)\n",
    "    return s*m\n",
    "\n",
    "a = [[1, 2], [3, 4]]\n",
    "scalar_mult(3, a)"
   ]
  },
  {
   "cell_type": "markdown",
   "metadata": {},
   "source": [
    "Write functions row_times_column and matrix_mult:"
   ]
  },
  {
   "cell_type": "code",
   "execution_count": 30,
   "metadata": {},
   "outputs": [
    {
     "data": {
      "text/plain": [
       "19"
      ]
     },
     "execution_count": 30,
     "metadata": {},
     "output_type": "execute_result"
    }
   ],
   "source": [
    "def row_times_column(m1, row, m2, column):\n",
    "    \"\"\"\n",
    "      >>> row_times_column([[1, 2], [3, 4]], 0, [[5, 6], [7, 8]], 0)\n",
    "      19\n",
    "      >>> row_times_column([[1, 2], [3, 4]], 0, [[5, 6], [7, 8]], 1)\n",
    "      22\n",
    "      >>> row_times_column([[1, 2], [3, 4]], 1, [[5, 6], [7, 8]], 0)\n",
    "      43\n",
    "      >>> row_times_column([[1, 2], [3, 4]], 1, [[5, 6], [7, 8]], 1)\n",
    "      50\n",
    "    \"\"\"\n",
    "    a=np.matmul(m1, m2)\n",
    "    return  a[row][column]\n",
    "row_times_column([[1, 2], [3, 4]], 0, [[5, 6], [7, 8]], 0)"
   ]
  },
  {
   "cell_type": "code",
   "execution_count": 44,
   "metadata": {},
   "outputs": [
    {
     "data": {
      "text/plain": [
       "array([[19, 22],\n",
       "       [43, 50]])"
      ]
     },
     "execution_count": 44,
     "metadata": {},
     "output_type": "execute_result"
    }
   ],
   "source": [
    "def matrix_mult(m1, m2):\n",
    "    a=np.matmul(m1, m2)\n",
    "    return  a\n",
    "\n",
    "\n",
    "matrix_mult([[1, 2], [3,  4]], [[5, 6], [7, 8]])\n"
   ]
  },
  {
   "cell_type": "markdown",
   "metadata": {},
   "source": [
    "Write a function transpose that takes a matrix as an argument and returns is transpose:"
   ]
  },
  {
   "cell_type": "code",
   "execution_count": 47,
   "metadata": {},
   "outputs": [
    {
     "data": {
      "text/plain": [
       "array([[3],\n",
       "       [4],\n",
       "       [6]])"
      ]
     },
     "execution_count": 47,
     "metadata": {},
     "output_type": "execute_result"
    }
   ],
   "source": [
    "def transpose(m):\n",
    "    return np.transpose(m)\n",
    "m = [[3, 4, 6]]\n",
    "transpose(m)"
   ]
  },
  {
   "cell_type": "code",
   "execution_count": null,
   "metadata": {},
   "outputs": [],
   "source": []
  }
 ],
 "metadata": {
  "kernelspec": {
   "display_name": "Python 3",
   "language": "python",
   "name": "python3"
  },
  "language_info": {
   "codemirror_mode": {
    "name": "ipython",
    "version": 3
   },
   "file_extension": ".py",
   "mimetype": "text/x-python",
   "name": "python",
   "nbconvert_exporter": "python",
   "pygments_lexer": "ipython3",
   "version": "3.8.5"
  }
 },
 "nbformat": 4,
 "nbformat_minor": 4
}
