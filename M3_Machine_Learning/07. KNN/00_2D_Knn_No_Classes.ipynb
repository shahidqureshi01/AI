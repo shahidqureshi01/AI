{
 "cells": [
  {
   "cell_type": "markdown",
   "metadata": {},
   "source": [
    "# KNN From Sratch\n",
    "\n",
    "In this workbook we will guide you through the steps to implement KNN from scratch. Once this is done you'll implement you solution in a class that is tested with the knn_class_tester notebook.\n",
    "\n",
    "1. Use the ```make_blobs``` function from SKLearn to make a dataset to test your KNN functions.\n",
    "2. Create helper functions. These will be useful when you go to implement your class.\n",
    "    - Squaring the difference of two vectors.\n",
    "    - Summing the square differences and returning the square root.\n",
    "    - Calculating the euclidian distances\n",
    "    - An evaluation function to evalaute predictions\n",
    "3. Create the KNN predcit function"
   ]
  },
  {
   "cell_type": "code",
   "execution_count": 1,
   "metadata": {},
   "outputs": [
    {
     "name": "stderr",
     "output_type": "stream",
     "text": [
      "/Users/shahidqureshi/opt/anaconda3/envs/machine_learning/lib/python3.8/site-packages/sklearn/utils/deprecation.py:143: FutureWarning: The sklearn.datasets.samples_generator module is  deprecated in version 0.22 and will be removed in version 0.24. The corresponding classes / functions should instead be imported from sklearn.datasets. Anything that cannot be imported from sklearn.datasets is now part of the private API.\n",
      "  warnings.warn(message, FutureWarning)\n"
     ]
    }
   ],
   "source": [
    "#import libraries\n",
    "import numpy as np\n",
    "from collections import Counter\n",
    "import matplotlib.pyplot as plt\n",
    "from sklearn.datasets.samples_generator import make_blobs\n",
    "from sklearn.model_selection import train_test_split\n",
    "import sys "
   ]
  },
  {
   "cell_type": "markdown",
   "metadata": {},
   "source": [
    "### Step 1: Create a sample dataset\n",
    "1. Use ```make_blobs``` to create a sample set\n",
    "2. Start with 300 samples, 4 centres, 0.6 standard deviation, and random state 0\n",
    "3. Plot the samples"
   ]
  },
  {
   "cell_type": "code",
   "execution_count": 2,
   "metadata": {},
   "outputs": [
    {
     "name": "stdout",
     "output_type": "stream",
     "text": [
      "[1 3 0 3 1 1 2 0 3 3 2 3 0 3 1 0 0 1 2 2 1 1 0 2 2 0 1 0 2 0 3 3 0 3 3 3 3\n",
      " 3 2 1 0 2 0 0 2 2 3 2 3 1 2 1 3 1 1 2 3 2 3 1 3 0 3 2 2 2 3 1 3 2 0 2 3 2\n",
      " 2 3 2 0 1 3 1 0 1 1 3 0 1 0 3 3 0 1 3 2 2 0 1 1 0 2 3 1 3 1 0 1 1 0 3 0 2\n",
      " 2 1 3 1 0 3 1 1 0 2 1 2 1 1 1 1 2 1 2 3 2 2 1 3 2 2 3 0 3 3 2 0 2 0 2 3 0\n",
      " 3 3 3 0 3 0 1 2 3 2 1 0 3 0 0 1 0 2 2 0 1 0 0 3 1 0 2 3 1 1 0 2 1 0 2 2 0\n",
      " 0 0 0 1 3 0 2 0 0 2 2 2 0 2 3 0 2 1 2 0 3 2 3 0 3 0 2 0 0 3 2 2 1 1 0 3 1\n",
      " 1 2 1 2 0 3 3 0 0 3 0 1 2 0 1 2 3 2 1 0 1 3 3 3 3 2 2 3 0 2 1 0 2 2 2 1 1\n",
      " 3 0 0 2 1 3 2 0 3 0 1 1 2 2 0 1 1 1 0 3 3 1 1 0 1 1 1 3 2 3 0 1 1 3 3 3 1\n",
      " 1 0 3 2]\n"
     ]
    }
   ],
   "source": [
    "#make the dataset with make_blobs\n",
    "X,y = make_blobs(n_samples=300,centers=4,cluster_std=0.6,random_state=0)\n",
    "print(y)"
   ]
  },
  {
   "cell_type": "markdown",
   "metadata": {},
   "source": [
    "# Step 2: Creating the KNN function\n",
    "Pseudocode below to help out! Note: **IT IS NOT ACTUAL CODE**"
   ]
  },
  {
   "cell_type": "code",
   "execution_count": 3,
   "metadata": {},
   "outputs": [
    {
     "name": "stdout",
     "output_type": "stream",
     "text": [
      "[[ 2.46915842e+00  1.67877140e+00]\n",
      " [ 2.40615694e+00  4.87047502e+00]\n",
      " [ 1.24258802e+00  4.50399192e+00]\n",
      " [ 1.06923853e+00  4.53068484e+00]\n",
      " [ 2.14917144e+00  1.03697228e+00]\n",
      " [ 2.60778282e+00  1.08890025e+00]\n",
      " [ 4.43598630e-01  3.11530945e+00]\n",
      " [ 2.22322228e+00  8.38773426e-01]\n",
      " [ 7.93137001e-03  4.17614316e+00]\n",
      " [-1.12867566e+00  7.80509789e+00]\n",
      " [ 7.89338559e-01  4.33748653e+00]\n",
      " [ 1.34195197e+00  5.93573847e-01]\n",
      " [ 2.52706430e+00  6.17812202e-01]\n",
      " [ 1.20083098e+00  6.01671730e-01]\n",
      " [ 2.14043942e+00  7.06066610e-01]\n",
      " [-1.45672617e+00  7.48669893e+00]\n",
      " [ 1.27135141e+00  1.89254207e+00]\n",
      " [-1.62150422e+00  4.27191636e+00]\n",
      " [-1.07859101e+00  2.20451529e+00]\n",
      " [-1.36999388e+00  7.76953035e+00]\n",
      " [ 1.20212540e+00  3.64414685e+00]\n",
      " [-1.98539037e+00  2.05520738e+00]\n",
      " [ 1.07627418e+00  4.68480619e+00]\n",
      " [ 4.53791789e-01  3.95647753e+00]\n",
      " [ 2.24592863e-01  4.77028154e+00]\n",
      " [ 3.22881491e+00  1.13171965e+00]\n",
      " [ 1.21387411e+00  3.64795042e+00]\n",
      " [-1.00552592e+00  3.08400540e+00]\n",
      " [-2.22783649e+00  6.89479938e+00]\n",
      " [-1.84892963e-03  4.58145668e+00]\n",
      " [-1.95866665e+00  2.43008647e+00]\n",
      " [ 1.78194802e+00  9.08151155e-01]\n",
      " [ 1.56724897e+00  1.78090633e-02]\n",
      " [-9.75986627e-01  6.73761577e+00]\n",
      " [ 1.36678633e+00  6.34971633e-01]\n",
      " [-1.51176949e+00  7.94426307e+00]\n",
      " [ 1.37964693e+00  4.54826443e+00]\n",
      " [ 1.81559810e+00  1.11969719e+00]\n",
      " [ 1.87271752e+00  4.18069237e+00]\n",
      " [ 1.66382237e+00  6.63091635e-01]\n",
      " [ 1.13078931e+00  9.35620856e-01]\n",
      " [-1.39346767e+00  8.74641672e+00]\n",
      " [ 2.72396035e-01  5.46996004e+00]\n",
      " [ 9.35325115e-01  5.33179296e+00]\n",
      " [-1.88609638e+00  2.24834407e+00]\n",
      " [-4.15017659e-02  7.80870276e+00]\n",
      " [-1.93960658e+00  2.18943582e+00]\n",
      " [ 1.32000621e+00  1.40428145e+00]\n",
      " [ 1.32222457e+00  4.17880807e+00]\n",
      " [-1.27567815e+00  7.96776461e+00]\n",
      " [-1.18652985e+00  2.78427720e+00]\n",
      " [ 1.10550448e+00  1.26389129e+00]\n",
      " [-1.50372568e+00  1.92385320e+00]\n",
      " [ 2.29469533e+00 -7.65891994e-01]\n",
      " [-1.47904303e+00  7.56915836e+00]\n",
      " [-5.90447667e-01  7.69493053e+00]\n",
      " [-1.22605234e+00  8.29620146e+00]\n",
      " [ 2.31102276e+00  1.30380848e+00]\n",
      " [ 5.95676822e-01  4.08614263e+00]\n",
      " [ 2.03169783e+00  1.96807561e-01]\n",
      " [-1.73163168e+00  7.16447286e+00]\n",
      " [-2.11821046e+00  2.03478126e+00]\n",
      " [ 1.86873582e+00  9.56103760e-01]\n",
      " [-7.11099611e-01  8.66043846e+00]\n",
      " [-1.13121396e+00  6.76652230e+00]\n",
      " [ 7.67522789e-01  4.39759671e+00]\n",
      " [-1.49720702e+00  3.21418433e+00]\n",
      " [ 1.48170052e+00  6.90074595e-01]\n",
      " [ 5.72793810e-01  4.08805543e+00]\n",
      " [ 5.29417185e-01  3.80792420e+00]\n",
      " [ 1.10123507e+00  4.88977075e+00]\n",
      " [ 2.11390250e+00  1.24743587e+00]\n",
      " [ 1.08272576e+00  4.06271877e+00]\n",
      " [-1.06690610e+00  3.13165795e+00]\n",
      " [ 4.31891060e-01  4.33495456e+00]\n",
      " [-1.53631328e+00  3.01443916e+00]\n",
      " [ 2.56936589e+00  5.07048304e-01]\n",
      " [ 1.61152972e+00  1.82347242e+00]\n",
      " [ 2.13979079e-01  4.88542535e+00]\n",
      " [-1.60496819e+00  2.97425420e+00]\n",
      " [-1.11064012e+00  2.82213820e+00]\n",
      " [-4.56773649e-01  7.30600872e+00]\n",
      " [-1.57846247e+00  3.03445802e+00]\n",
      " [-2.05701103e+00  7.37851598e+00]\n",
      " [ 1.68353782e+00  4.19583243e+00]\n",
      " [ 1.65991049e+00  3.56289184e+00]\n",
      " [ 3.41085289e+00  8.72309369e-01]\n",
      " [ 4.59534668e-01  5.44982630e+00]\n",
      " [-1.14091533e+00  1.97550822e+00]\n",
      " [-2.62142780e+00  7.98635066e+00]]\n"
     ]
    },
    {
     "data": {
      "text/plain": [
       "<function print>"
      ]
     },
     "execution_count": 3,
     "metadata": {},
     "output_type": "execute_result"
    }
   ],
   "source": [
    "# define train test split\n",
    "#X_train\n",
    "#X_test\n",
    "#y_train\n",
    "#y_test\n",
    "X_train, X_test, y_train, y_test = train_test_split(X, y, test_size=0.3, random_state=101)\n",
    "\n",
    "print(X_test)\n",
    "print"
   ]
  },
  {
   "cell_type": "code",
   "execution_count": 4,
   "metadata": {},
   "outputs": [],
   "source": [
    "def get_eucledian_distance(v1,v2):\n",
    "    distance = np.linalg.norm(v1 - v2)\n",
    "    return distance"
   ]
  },
  {
   "cell_type": "code",
   "execution_count": 5,
   "metadata": {},
   "outputs": [],
   "source": [
    "#def get_all_distances(X_train, X_test)\n",
    "def get_all_distances(X_train, X_test):\n",
    "    print(X_train)\n",
    "    sys.exit()\n",
    "    mat = []\n",
    "    for p in X_train:\n",
    "        temp = X_train - X_test\n",
    "        mat.zip(temp)\n",
    "    return mat"
   ]
  },
  {
   "cell_type": "code",
   "execution_count": 6,
   "metadata": {},
   "outputs": [],
   "source": [
    "def select_neighbours(dist_list, k):\n",
    "    #sl = sort(dist_list, by: distance)\n",
    "    sl = sort(dis_list)\n",
    "    #return 0 to k elements from list (slice)\n",
    "    return sl[:k]\n",
    "    "
   ]
  },
  {
   "cell_type": "code",
   "execution_count": 7,
   "metadata": {},
   "outputs": [
    {
     "ename": "SyntaxError",
     "evalue": "invalid syntax (<ipython-input-7-53f88e028730>, line 2)",
     "output_type": "error",
     "traceback": [
      "\u001b[0;36m  File \u001b[0;32m\"<ipython-input-7-53f88e028730>\"\u001b[0;36m, line \u001b[0;32m2\u001b[0m\n\u001b[0;31m    access the index from my sliced_sorted_list\u001b[0m\n\u001b[0m           ^\u001b[0m\n\u001b[0;31mSyntaxError\u001b[0m\u001b[0;31m:\u001b[0m invalid syntax\n"
     ]
    }
   ],
   "source": [
    "def predict(final_n, y_train):\n",
    "    access the index from my sliced_sorted_list\n",
    "    get the y_train label corresponding to that index\n",
    "    return most_common label among the list"
   ]
  },
  {
   "cell_type": "code",
   "execution_count": null,
   "metadata": {},
   "outputs": [],
   "source": [
    "from sklearn.metrics import accuracy_score\n",
    "def KNN_function (X_train, X_test, y_train, y_test, k):\n",
    "    # given a vector, [2.5, 4.56, 2]\n",
    "    # sample X_train : [2.5,4.56] = x1,x2\n",
    "    # search with same index: y_train = 2\n",
    "    \n",
    "    # rember to do it for all X_test vectors\n",
    "    # CASE: ONE SINGLE X_train vector:\n",
    "    dist_list = []\n",
    "    for vector in X_train:\n",
    "        # result = my get_distance function\n",
    "        result = get_all_distances(vector[0], vector[1])\n",
    "        dist_list.append(result, y_train)\n",
    "    final_n = select_neighbours(dist_list, k)\n",
    "    ypred = predict(final_n, y_train)\n",
    "    score = accuracy_score(final_n, y_pred)\n",
    "    #or comparing 1 by 1 (ypred - ytest)\n",
    "    #plot... do it inside in a separate function or outside. \n",
    "    \n",
    "        "
   ]
  },
  {
   "cell_type": "code",
   "execution_count": null,
   "metadata": {},
   "outputs": [],
   "source": [
    "KNN_function (X_train, X_test, y_train, y_test, k=7)"
   ]
  },
  {
   "cell_type": "code",
   "execution_count": null,
   "metadata": {},
   "outputs": [],
   "source": []
  },
  {
   "cell_type": "code",
   "execution_count": null,
   "metadata": {},
   "outputs": [],
   "source": []
  }
 ],
 "metadata": {
  "kernelspec": {
   "display_name": "Python 3",
   "language": "python",
   "name": "python3"
  },
  "language_info": {
   "codemirror_mode": {
    "name": "ipython",
    "version": 3
   },
   "file_extension": ".py",
   "mimetype": "text/x-python",
   "name": "python",
   "nbconvert_exporter": "python",
   "pygments_lexer": "ipython3",
   "version": "3.8.8"
  }
 },
 "nbformat": 4,
 "nbformat_minor": 4
}
