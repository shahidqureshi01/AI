{
 "cells": [
  {
   "cell_type": "markdown",
   "metadata": {},
   "source": [
    "# Exercise 2: Clustering 2D points"
   ]
  },
  {
   "cell_type": "markdown",
   "metadata": {},
   "source": [
    "From the scatter plot of the previous exercise, you saw that the points seem to separate into 3 clusters.  Now create a KMeans model to find 3 clusters, and fit it to the data points from the previous exercise.  After the model has been fit, obtain the cluster labels for points, and also for some new points using the `.predict()` method.\n",
    "\n",
    "You are given the array `points` from the previous exercise, and also an array `new_points`."
   ]
  },
  {
   "cell_type": "markdown",
   "metadata": {},
   "source": [
    "**Step 1:** Load the dataset _(written for you)_."
   ]
  },
  {
   "cell_type": "code",
   "execution_count": 5,
   "metadata": {
    "exercise": false
   },
   "outputs": [],
   "source": [
    "import pandas as pd\n",
    "\n",
    "df = pd.read_csv('../datasets/ch1ex1.csv')\n",
    "points = df.values\n",
    "\n",
    "new_df = pd.read_csv('../datasets/ch1ex2.csv')\n",
    "new_points = new_df.values"
   ]
  },
  {
   "cell_type": "markdown",
   "metadata": {},
   "source": [
    "**Step 2:** Import `KMeans` from `sklearn.cluster`"
   ]
  },
  {
   "cell_type": "code",
   "execution_count": 6,
   "metadata": {},
   "outputs": [],
   "source": [
    "from sklearn.cluster import KMeans"
   ]
  },
  {
   "cell_type": "markdown",
   "metadata": {},
   "source": [
    "**Step 3:** Using `KMeans()`, create a `KMeans` instance called `model` to find `3` clusters. To specify the number of clusters, use the `n_clusters` keyword argument"
   ]
  },
  {
   "cell_type": "code",
   "execution_count": 7,
   "metadata": {},
   "outputs": [],
   "source": [
    "model = KMeans(n_clusters = 3)"
   ]
  },
  {
   "cell_type": "markdown",
   "metadata": {},
   "source": [
    "**Step 4:** Use the `.fit()` method of `model` to fit the model to the array of points `points`."
   ]
  },
  {
   "cell_type": "code",
   "execution_count": 8,
   "metadata": {},
   "outputs": [
    {
     "data": {
      "text/plain": [
       "KMeans(n_clusters=3)"
      ]
     },
     "execution_count": 8,
     "metadata": {},
     "output_type": "execute_result"
    }
   ],
   "source": [
    "model.fit(points)"
   ]
  },
  {
   "cell_type": "markdown",
   "metadata": {},
   "source": [
    "**Step 5:** Use the `.predict()` method of `model` to predict the cluster labels of `points`, assigning the result to `labels`."
   ]
  },
  {
   "cell_type": "code",
   "execution_count": 9,
   "metadata": {},
   "outputs": [],
   "source": [
    "labels = model.predict(points)"
   ]
  },
  {
   "cell_type": "markdown",
   "metadata": {},
   "source": [
    "**Step 6:** Print out the labels, and have a look at them!  _(In the next exercise, I'll show you how to visualise this clustering better.)_"
   ]
  },
  {
   "cell_type": "code",
   "execution_count": 10,
   "metadata": {},
   "outputs": [
    {
     "name": "stdout",
     "output_type": "stream",
     "text": [
      "[2 0 1 1 0 0 1 2 0 0 1 2 0 1 0 2 1 1 2 1 0 2 0 2 2 0 2 2 2 0 1 1 1 0 2 0 2\n",
      " 2 0 2 2 1 0 0 0 2 2 1 2 1 1 1 2 2 2 0 2 2 0 1 0 2 2 1 1 0 1 0 0 2 1 0 1 2\n",
      " 1 0 2 2 2 1 2 0 1 0 0 0 0 2 2 1 0 1 0 2 2 2 1 0 0 1 0 2 0 1 2 1 1 1 0 0 2\n",
      " 0 1 0 0 0 2 0 1 1 2 2 2 2 2 0 1 2 0 0 1 1 0 2 0 2 1 0 1 2 1 1 2 1 1 2 1 0\n",
      " 2 2 2 1 1 0 1 0 2 2 1 0 1 1 1 0 2 2 0 1 1 2 2 1 2 2 0 2 1 1 1 2 2 1 2 1 1\n",
      " 2 0 1 2 2 2 2 0 1 2 0 0 0 2 0 2 2 0 1 1 2 1 2 2 0 0 2 1 0 1 2 1 0 2 0 0 0\n",
      " 0 1 1 1 2 2 0 2 1 0 2 2 0 2 1 1 1 1 1 0 2 2 1 1 2 0 1 0 0 2 2 0 0 0 2 1 2\n",
      " 0 2 1 1 1 1 1 2 2 0 2 2 0 1 1 0 2 1 1 0 0 2 2 2 0 0 2 1 0 0 1 2 2 2 0 2 2\n",
      " 2 0 0 0]\n"
     ]
    }
   ],
   "source": [
    "print(labels)"
   ]
  },
  {
   "cell_type": "markdown",
   "metadata": {},
   "source": [
    "**Step 7:** Use the `.predict()` method of `model` to predict the cluster labels of `new_points`, assigning the result to `new_labels`.  Notice that KMeans can assign previously unseen points to the clusters it has already found!"
   ]
  },
  {
   "cell_type": "code",
   "execution_count": 12,
   "metadata": {},
   "outputs": [],
   "source": [
    "new_labels = model.predict(new_points)"
   ]
  },
  {
   "cell_type": "code",
   "execution_count": 13,
   "metadata": {},
   "outputs": [
    {
     "name": "stdout",
     "output_type": "stream",
     "text": [
      "[[ 8.96764687e-01  1.14312679e+00]\n",
      " [ 9.73851167e-01  9.29172382e-01]\n",
      " [-1.83908852e+00  3.48506225e-01]\n",
      " [-1.04509772e+00  7.24680526e-02]\n",
      " [ 8.20273712e-01 -7.10225100e-01]\n",
      " [ 6.33959801e-01 -1.16426756e+00]\n",
      " [ 1.27755934e+00  1.37949406e+00]\n",
      " [ 1.57209678e-01 -6.23194641e-01]\n",
      " [-2.33999823e-01 -1.02304339e+00]\n",
      " [-1.95539995e+00 -2.97587992e-01]\n",
      " [ 2.93624558e-02 -9.55299448e-01]\n",
      " [ 6.47470034e-01 -1.05908792e+00]\n",
      " [-1.25160156e+00  2.69557855e-01]\n",
      " [-1.61007982e-01 -1.10254835e+00]\n",
      " [ 1.32126915e-01  1.28469787e+00]\n",
      " [ 1.06506274e+00  9.26759342e-01]\n",
      " [ 4.27262453e-01 -1.19136243e+00]\n",
      " [ 1.08848463e+00  1.04833873e+00]\n",
      " [ 1.09858708e+00  8.54704821e-01]\n",
      " [ 2.57080023e-01 -8.20496675e-01]\n",
      " [ 6.79346356e-01  7.60766188e-01]\n",
      " [ 1.03169831e+00  7.11557551e-01]\n",
      " [-1.58280479e+00  4.20489771e-02]\n",
      " [ 9.12552026e-01  8.74993938e-01]\n",
      " [-1.33951568e+00 -4.91355267e-01]\n",
      " [ 3.35518600e-01 -4.86057491e-01]\n",
      " [-1.25500909e+00 -3.42715158e-01]\n",
      " [ 1.31933952e+00  1.36041209e+00]\n",
      " [ 1.22996877e+00  8.75221494e-01]\n",
      " [ 8.19724634e-01  1.31037817e+00]\n",
      " [-1.23738462e+00  1.99532455e-01]\n",
      " [ 4.41873094e-01 -1.26252664e+00]\n",
      " [ 4.29081307e-01 -7.14394329e-01]\n",
      " [-1.26881344e+00 -1.49809356e-01]\n",
      " [-1.48252724e+00 -5.38464952e-01]\n",
      " [ 1.02614760e+00  1.06683562e+00]\n",
      " [-1.59622094e+00 -4.91125503e-01]\n",
      " [-1.49291973e+00  4.45926330e-03]\n",
      " [-1.05936620e+00  1.01211932e-02]\n",
      " [-1.78108130e+00 -2.66960985e-01]\n",
      " [ 1.11223969e+00  9.66039234e-01]\n",
      " [-1.42949074e-01 -1.01753325e+00]\n",
      " [-1.59207705e+00  2.94076825e-01]\n",
      " [-1.19270042e-01 -7.36340904e-01]\n",
      " [-1.36946501e+00  2.57487707e-01]\n",
      " [-1.50087732e+00 -4.22350739e-01]\n",
      " [-1.35810190e-03 -9.60703756e-01]\n",
      " [ 1.46278701e+00  1.14704055e+00]\n",
      " [-1.26751873e+00  2.50849887e-01]\n",
      " [-1.91481240e+00 -1.57376039e-01]\n",
      " [ 8.39862230e-01  7.06848132e-01]\n",
      " [ 6.11438733e-01  1.14093227e+00]\n",
      " [-3.91257858e-02 -1.03372470e+00]\n",
      " [ 9.27816488e-01  1.09250184e+00]\n",
      " [-3.18794338e-01 -5.24251594e-01]\n",
      " [ 1.34395165e+00  8.48824939e-01]\n",
      " [-1.82295344e+00 -9.11519563e-02]\n",
      " [ 1.64023243e+00  6.49665552e-01]\n",
      " [-1.85164921e+00 -4.96012798e-01]\n",
      " [-1.56137143e+00 -1.13874344e-01]\n",
      " [-1.23363836e+00 -2.45290534e-01]\n",
      " [ 1.00682463e-01 -5.05674527e-01]\n",
      " [ 5.40333496e-01 -5.58567408e-01]\n",
      " [ 4.59492327e-02 -7.91772422e-01]\n",
      " [-1.47177691e+00 -1.92886946e-01]\n",
      " [-1.18270746e+00 -2.52055806e-01]\n",
      " [-6.13099660e-01 -9.21967039e-01]\n",
      " [-1.84264598e+00  2.09444492e-01]\n",
      " [-2.35068471e-01 -5.79257075e-01]\n",
      " [-1.28467527e+00 -6.10523857e-02]\n",
      " [ 1.28163482e+00  1.44013194e+00]\n",
      " [ 2.79291770e-01  1.21516333e+00]\n",
      " [ 1.47688634e+00  1.04855967e+00]\n",
      " [ 7.19304026e-01 -6.60008295e-01]\n",
      " [-1.54610911e+00 -3.06740198e-01]\n",
      " [-7.37991670e-02 -4.98576814e-01]\n",
      " [ 3.21321551e-01  3.80976278e-04]\n",
      " [ 8.81265628e-02 -4.37919404e-01]\n",
      " [ 9.78940161e-01  9.62500635e-01]\n",
      " [ 2.83334503e-01 -7.31257415e-01]\n",
      " [ 8.67056311e-01  9.62012780e-01]\n",
      " [ 3.66107401e-01 -6.59705133e-01]\n",
      " [ 1.25473720e+00  1.30923743e+00]\n",
      " [-8.63968832e-02 -3.61868634e-01]\n",
      " [ 9.48378529e-01  9.55855902e-01]\n",
      " [-1.67477367e+00 -3.69165308e-01]\n",
      " [ 1.19742597e+00  1.05842382e+00]\n",
      " [ 1.92884036e-01 -4.08857020e-01]\n",
      " [-1.55040097e+00  9.18077188e-02]\n",
      " [ 4.04740532e-01 -7.29265825e-01]\n",
      " [ 1.10395358e+00  1.26032943e+00]\n",
      " [ 1.29367939e+00  1.08686549e+00]\n",
      " [-2.47503326e+00 -1.89956461e-01]\n",
      " [-1.41851853e+00 -2.97820954e-01]\n",
      " [ 1.36008453e+00  6.91656788e-01]\n",
      " [ 5.62295987e-01  7.27745300e-01]\n",
      " [ 1.13901076e+00  6.57293434e-01]\n",
      " [-1.84630013e+00 -6.43802696e-01]\n",
      " [ 2.66198698e-01 -1.78749605e-01]\n",
      " [-1.11517532e+00 -7.26902407e-01]]\n"
     ]
    }
   ],
   "source": [
    "print(new_points)"
   ]
  },
  {
   "cell_type": "code",
   "execution_count": null,
   "metadata": {},
   "outputs": [],
   "source": []
  }
 ],
 "metadata": {
  "kernelspec": {
   "display_name": "Python 3",
   "language": "python",
   "name": "python3"
  },
  "language_info": {
   "codemirror_mode": {
    "name": "ipython",
    "version": 3
   },
   "file_extension": ".py",
   "mimetype": "text/x-python",
   "name": "python",
   "nbconvert_exporter": "python",
   "pygments_lexer": "ipython3",
   "version": "3.8.8"
  }
 },
 "nbformat": 4,
 "nbformat_minor": 1
}
