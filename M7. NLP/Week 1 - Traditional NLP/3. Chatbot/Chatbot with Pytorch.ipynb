{
 "cells": [
  {
   "cell_type": "code",
   "execution_count": 1,
   "metadata": {},
   "outputs": [
    {
     "data": {
      "text/plain": [
       "\"\\nChatbots are essential for speeding up user assistance and reducing waiting times. Chatbots can quickly extract important information such as demographics, symptoms, health insurance information and assist any patients by making appointments with specialists.\\n\\nImagine having to design a tool that allows preliminary assistance for those who must access a treatment path or must make a reservation for a specialist visit.\\n\\nCreate a dataset using the template provided as a base and prepare at least 5 different intents with 4/5 responses each.\\n\\nThe final result must ensure that users can have a dialogue of at least 3 questions and 3 answers consistent with the context.\\n\\nExample\\nA: Hello MedAssistant.\\nB: Hello. How can I help you?\\nA: I don't feel well.\\nB: Do you have any symptoms?\\nA: I have cough and nausea.\\nB: Do you want to book an appointment?\\nA: Yes, please, for tomorrow.\\n\\n\\nInfo:\\n- Feel free to change or arrange a new dataset of intents\\n- Try experimenting and tuning with the hyperparameters\\n- Feel free to use or change the code you've seen during the morning session\\n- TBD = To be done (from you!) :)\\n\""
      ]
     },
     "execution_count": 1,
     "metadata": {},
     "output_type": "execute_result"
    }
   ],
   "source": [
    "# NLP Lecture @ Strive School - 21st July 2021\n",
    "# CHATBOT with Pytorch\n",
    "\n",
    "'''\n",
    "Chatbots are essential for speeding up user assistance and reducing waiting times. Chatbots can quickly extract important information such as demographics, symptoms, health insurance information and assist any patients by making appointments with specialists.\n",
    "\n",
    "Imagine having to design a tool that allows preliminary assistance for those who must access a treatment path or must make a reservation for a specialist visit.\n",
    "\n",
    "Create a dataset using the template provided as a base and prepare at least 5 different intents with 4/5 responses each.\n",
    "\n",
    "The final result must ensure that users can have a dialogue of at least 3 questions and 3 answers consistent with the context.\n",
    "\n",
    "Example\n",
    "A: Hello MedAssistant.\n",
    "B: Hello. How can I help you?\n",
    "A: I don't feel well.\n",
    "B: Do you have any symptoms?\n",
    "A: I have cough and nausea.\n",
    "B: Do you want to book an appointment?\n",
    "A: Yes, please, for tomorrow.\n",
    "\n",
    "\n",
    "Info:\n",
    "- Feel free to change or arrange a new dataset of intents\n",
    "- Try experimenting and tuning with the hyperparameters\n",
    "- Feel free to use or change the code you've seen during the morning session\n",
    "- TBD = To be done (from you!) :)\n",
    "'''"
   ]
  },
  {
   "cell_type": "code",
   "execution_count": null,
   "metadata": {},
   "outputs": [],
   "source": []
  },
  {
   "cell_type": "code",
   "execution_count": null,
   "metadata": {},
   "outputs": [],
   "source": []
  },
  {
   "cell_type": "code",
   "execution_count": null,
   "metadata": {},
   "outputs": [],
   "source": []
  },
  {
   "cell_type": "code",
   "execution_count": null,
   "metadata": {},
   "outputs": [],
   "source": []
  },
  {
   "cell_type": "code",
   "execution_count": 8,
   "metadata": {},
   "outputs": [
    {
     "name": "stdout",
     "output_type": "stream",
     "text": [
      "[['Hi'], (['Hi'], 'greeting'), ['Hey'], (['Hey'], 'greeting'), ['How', 'are', 'you'], (['How', 'are', 'you'], 'greeting'), ['Is', 'anyone', 'there', '?'], (['Is', 'anyone', 'there', '?'], 'greeting'), ['Hello'], (['Hello'], 'greeting'), ['Good', 'day'], (['Good', 'day'], 'greeting'), ['Good', 'evening'], (['Good', 'evening'], 'greeting'), ['Good', 'night'], (['Good', 'night'], 'greeting'), ['Bye'], (['Bye'], 'goodbye'), ['See', 'you', 'later'], (['See', 'you', 'later'], 'goodbye'), ['Goodbye'], (['Goodbye'], 'goodbye'), ['Thanks'], (['Thanks'], 'thanks'), ['Thank', 'you'], (['Thank', 'you'], 'thanks'), ['That', \"'s\", 'helpful'], (['That', \"'s\", 'helpful'], 'thanks'), ['Thank', \"'s\", 'a', 'lot', '!'], (['Thank', \"'s\", 'a', 'lot', '!'], 'thanks'), ['Which', 'hamburgers', 'do', 'you', 'have', '?'], (['Which', 'hamburgers', 'do', 'you', 'have', '?'], 'food'), ['What', 'kinds', 'of', 'courses', 'are', 'there', '?'], (['What', 'kinds', 'of', 'courses', 'are', 'there', '?'], 'food'), ['What', 'do', 'you', 'cook', '?'], (['What', 'do', 'you', 'cook', '?'], 'food'), ['Can', 'I', 'order', 'a', 'coke', '?'], (['Can', 'I', 'order', 'a', 'coke', '?'], 'food'), ['I', \"'m\", 'hungry'], (['I', \"'m\", 'hungry'], 'food'), ['We', \"'re\", 'starving'], (['We', \"'re\", 'starving'], 'food'), ['I', \"'d\", 'like', 'to', 'have', 'a', 'pizza'], (['I', \"'d\", 'like', 'to', 'have', 'a', 'pizza'], 'food'), ['Do', 'you', 'take', 'credit', 'cards', '?'], (['Do', 'you', 'take', 'credit', 'cards', '?'], 'payments'), ['Do', 'you', 'accept', 'Mastercard', '?'], (['Do', 'you', 'accept', 'Mastercard', '?'], 'payments'), ['Can', 'I', 'pay', 'with', 'Apple', 'Pay', 'or', 'Paypal', '?'], (['Can', 'I', 'pay', 'with', 'Apple', 'Pay', 'or', 'Paypal', '?'], 'payments'), ['Can', 'I', 'pay', 'with', 'cash', '?'], (['Can', 'I', 'pay', 'with', 'cash', '?'], 'payments'), ['How', 'long', 'does', 'delivery', 'take', '?'], (['How', 'long', 'does', 'delivery', 'take', '?'], 'delivery'), ['How', 'long', 'does', 'shipping', 'take', '?'], (['How', 'long', 'does', 'shipping', 'take', '?'], 'delivery'), ['When', 'do', 'I', 'get', 'my', 'delivery', '?'], (['When', 'do', 'I', 'get', 'my', 'delivery', '?'], 'delivery'), ['Tell', 'me', 'a', 'joke', '!'], (['Tell', 'me', 'a', 'joke', '!'], 'miscellaneous'), ['Tell', 'me', 'something', 'funny', '!'], (['Tell', 'me', 'something', 'funny', '!'], 'miscellaneous'), ['Let', 'me', 'laugh', '!'], (['Let', 'me', 'laugh', '!'], 'miscellaneous')]\n"
     ]
    }
   ],
   "source": [
    "import numpy as np\n",
    "import json\n",
    "\n",
    "import torch\n",
    "import torch.nn as nn\n",
    "from torch.utils.data import Dataset, DataLoader\n",
    "\n",
    "from nltk_utils import bag_of_words, tokenize, stem\n",
    "from model import NeuralNet\n",
    "\n",
    "# STEP 0: find intents patterns\n",
    "\n",
    "with open('intents.json', 'r') as f:\n",
    "    intents = json.load(f)\n",
    "\n",
    "all_words = []\n",
    "tags = []\n",
    "patterns = []\n",
    "\n",
    "for intent in intents['intents']:\n",
    "    # TBD: loop through each sentence in our intents patterns, create a list of tags and define the patterns\n",
    "    tag = intent['tag']\n",
    "    tags.append(tag)\n",
    "    for p in intent['patterns']:\n",
    "        w = tokenize(p)\n",
    "        patterns.append(w)\n",
    "        all_words.extend(w)\n",
    "        patterns.append((w, tag))\n",
    "print(patterns)\n"
   ]
  },
  {
   "cell_type": "code",
   "execution_count": null,
   "metadata": {},
   "outputs": [],
   "source": [
    "# STEP 1: Pre-process of the input\n",
    "\n",
    "# lower case? stemming? stopwords?\n",
    "# TBD"
   ]
  },
  {
   "cell_type": "code",
   "execution_count": 5,
   "metadata": {},
   "outputs": [
    {
     "ename": "NameError",
     "evalue": "name 'patterns' is not defined",
     "output_type": "error",
     "traceback": [
      "\u001b[0;31m---------------------------------------------------------------------------\u001b[0m",
      "\u001b[0;31mNameError\u001b[0m                                 Traceback (most recent call last)",
      "\u001b[0;32m<ipython-input-5-b7474cecf0ae>\u001b[0m in \u001b[0;36m<module>\u001b[0;34m\u001b[0m\n\u001b[1;32m      3\u001b[0m \u001b[0mX_train\u001b[0m \u001b[0;34m=\u001b[0m \u001b[0;34m[\u001b[0m\u001b[0;34m]\u001b[0m\u001b[0;34m\u001b[0m\u001b[0;34m\u001b[0m\u001b[0m\n\u001b[1;32m      4\u001b[0m \u001b[0my_train\u001b[0m \u001b[0;34m=\u001b[0m \u001b[0;34m[\u001b[0m\u001b[0;34m]\u001b[0m\u001b[0;34m\u001b[0m\u001b[0;34m\u001b[0m\u001b[0m\n\u001b[0;32m----> 5\u001b[0;31m \u001b[0;32mfor\u001b[0m \u001b[0;34m(\u001b[0m\u001b[0mpattern_sentence\u001b[0m\u001b[0;34m,\u001b[0m \u001b[0mtag\u001b[0m\u001b[0;34m)\u001b[0m \u001b[0;32min\u001b[0m \u001b[0mpatterns\u001b[0m\u001b[0;34m:\u001b[0m\u001b[0;34m\u001b[0m\u001b[0;34m\u001b[0m\u001b[0m\n\u001b[0m\u001b[1;32m      6\u001b[0m     \u001b[0mbag\u001b[0m \u001b[0;34m=\u001b[0m \u001b[0mbag_of_words\u001b[0m\u001b[0;34m(\u001b[0m\u001b[0mpattern_sentence\u001b[0m\u001b[0;34m,\u001b[0m \u001b[0mall_words\u001b[0m\u001b[0;34m)\u001b[0m\u001b[0;34m\u001b[0m\u001b[0;34m\u001b[0m\u001b[0m\n\u001b[1;32m      7\u001b[0m     \u001b[0mX_train\u001b[0m\u001b[0;34m.\u001b[0m\u001b[0mappend\u001b[0m\u001b[0;34m(\u001b[0m\u001b[0mbag\u001b[0m\u001b[0;34m)\u001b[0m\u001b[0;34m\u001b[0m\u001b[0;34m\u001b[0m\u001b[0m\n",
      "\u001b[0;31mNameError\u001b[0m: name 'patterns' is not defined"
     ]
    }
   ],
   "source": [
    "# STEP 2: Define training data through a bag of words\n",
    "\n",
    "X_train = []\n",
    "y_train = []\n",
    "for (pattern_sentence, tag) in patterns:\n",
    "    bag = bag_of_words(pattern_sentence, all_words)\n",
    "    X_train.append(bag)\n",
    "    label = tags.index(tag)\n",
    "    y_train.append(label)\n",
    "\n",
    "X_train = np.array(X_train)\n",
    "y_train = np.array(y_train)"
   ]
  },
  {
   "cell_type": "code",
   "execution_count": null,
   "metadata": {},
   "outputs": [],
   "source": [
    "# STEP 3: Configure the neural network\n",
    "\n",
    "# define each parameter that is equal to 0 using an empirical value or a value based on your experience\n",
    "# TBD\n",
    "\n",
    "num_epochs = 0\n",
    "batch_size = 0\n",
    "learning_rate = 0.001\n",
    "input_size = len(X_train[0])\n",
    "hidden_size = 0\n",
    "output_size = len(tags)\n",
    "\n",
    "# STEP 4: Train the model\n",
    "\n",
    "class ChatDataset(Dataset):\n",
    "\n",
    "    def __init__(self):\n",
    "        self.n_samples = len(X_train)\n",
    "        self.x_data = X_train\n",
    "        self.y_data = y_train\n",
    "\n",
    "    # support indexing such that dataset[i] can be used to get i-th sample\n",
    "    def __getitem__(self, index):\n",
    "        return self.x_data[index], self.y_data[index]\n",
    "\n",
    "    # we can call len(dataset) to return the size\n",
    "    def __len__(self):\n",
    "        return self.n_samples\n",
    "\n",
    "dataset = ChatDataset()\n",
    "train_loader = DataLoader(dataset=dataset,\n",
    "                          batch_size=batch_size,\n",
    "                          shuffle=True,\n",
    "                          num_workers=0)\n",
    "\n",
    "device = torch.device('cuda' if torch.cuda.is_available() else 'cpu')\n",
    "\n",
    "model = NeuralNet(input_size, hidden_size, output_size).to(device)\n",
    "\n",
    "# Define loss and optimizer: which one is the best one?\n",
    "# TBD\n",
    "criterion = None\n",
    "optimizer = None\n",
    "\n",
    "# Train the model\n",
    "for epoch in range(num_epochs):\n",
    "    for (words, labels) in train_loader:\n",
    "        words = words.to(device)\n",
    "        labels = labels.to(dtype=torch.long).to(device)\n",
    "\n",
    "        # Forward pass\n",
    "        outputs = model(words)\n",
    "        # if y would be one-hot, we must apply\n",
    "        # labels = torch.max(labels, 1)[1]\n",
    "        loss = criterion(outputs, labels)\n",
    "\n",
    "        # Backward and optimize\n",
    "        optimizer.zero_grad()\n",
    "        loss.backward()\n",
    "        optimizer.step()\n",
    "\n",
    "\n",
    "data = {\n",
    "    \"model_state\": model.state_dict(),\n",
    "    \"input_size\": input_size,\n",
    "    \"hidden_size\": hidden_size,\n",
    "    \"output_size\": output_size,\n",
    "    \"all_words\": all_words,\n",
    "    \"tags\": tags\n",
    "}"
   ]
  },
  {
   "cell_type": "code",
   "execution_count": null,
   "metadata": {},
   "outputs": [],
   "source": [
    "# STEP 5: Save the model\n",
    "\n",
    "# TBD: name and save the model"
   ]
  },
  {
   "cell_type": "code",
   "execution_count": null,
   "metadata": {},
   "outputs": [],
   "source": [
    "# STEP 6: Test the model\n",
    "\n",
    "device = torch.device('cuda' if torch.cuda.is_available() else 'cpu')\n",
    "\n",
    "# TBD: Load the intents file\n",
    "\n",
    "# TBD: Retrieve the model and all the sizings\n",
    "\n",
    "# TBD: build the NN\n",
    "\n",
    "# TBD: prepare a command-line conversation (don't forget something to make the user exit the script!)"
   ]
  }
 ],
 "metadata": {
  "kernelspec": {
   "display_name": "Python 3",
   "language": "python",
   "name": "python3"
  },
  "language_info": {
   "codemirror_mode": {
    "name": "ipython",
    "version": 3
   },
   "file_extension": ".py",
   "mimetype": "text/x-python",
   "name": "python",
   "nbconvert_exporter": "python",
   "pygments_lexer": "ipython3",
   "version": "3.8.2"
  }
 },
 "nbformat": 4,
 "nbformat_minor": 2
}
